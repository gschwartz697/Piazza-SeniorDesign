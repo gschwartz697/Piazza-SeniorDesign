{
 "cells": [
  {
   "cell_type": "code",
   "execution_count": 66,
   "metadata": {},
   "outputs": [],
   "source": [
    "import MySQLdb\n",
    "\n",
    "myDB = MySQLdb.connect(host=\"seniordesign.cbvhmgr3ve3r.us-east-2.rds.amazonaws.com\",port=3306,user=\"grlpwr\",passwd=\"ourseniordesignproject\",db=\"seniordesign\")\n",
    "myDB = myDB.cursor()"
   ]
  },
  {
   "cell_type": "code",
   "execution_count": 72,
   "metadata": {},
   "outputs": [
    {
     "data": {
      "text/plain": [
       "0"
      ]
     },
     "execution_count": 72,
     "metadata": {},
     "output_type": "execute_result"
    }
   ],
   "source": [
    "myDB.execute(\"DROP TABLE CIS120\")\n",
    "myDB.execute(\"CREATE TABLE CIS120 (question_number INT AUTO_INCREMENT PRIMARY KEY, \"+\n",
    "             \"topic VARCHAR(500), question VARCHAR(500), answer VARCHAR(500), num_times_referred_to INT, \"+\n",
    "             \"follow_up_number INT, endorsed INT)\")"
   ]
  },
  {
   "cell_type": "code",
   "execution_count": 73,
   "metadata": {},
   "outputs": [
    {
     "name": "stdout",
     "output_type": "stream",
     "text": [
      "(1, 'hw1', 'Q', 'A', 0, 0, 0)\n"
     ]
    }
   ],
   "source": [
    "myDB.execute(\"INSERT INTO CIS120 (question_number, topic, question, answer, num_times_referred_to, \" +\n",
    "             \"follow_up_number, endorsed) VALUES (1, 'hw1', 'Q', 'A', 0, 0, 0)\")\n",
    "\n",
    "myDB.execute(\"SELECT * FROM CIS120\")\n",
    "row = myDB.fetchone()\n",
    "while row is not None:\n",
    "  print(row)\n",
    "  row = myDB.fetchone()"
   ]
  },
  {
   "cell_type": "code",
   "execution_count": null,
   "metadata": {},
   "outputs": [],
   "source": []
  }
 ],
 "metadata": {
  "kernelspec": {
   "display_name": "Python 3",
   "language": "python",
   "name": "python3"
  },
  "language_info": {
   "codemirror_mode": {
    "name": "ipython",
    "version": 3
   },
   "file_extension": ".py",
   "mimetype": "text/x-python",
   "name": "python",
   "nbconvert_exporter": "python",
   "pygments_lexer": "ipython3",
   "version": "3.7.0"
  }
 },
 "nbformat": 4,
 "nbformat_minor": 2
}
