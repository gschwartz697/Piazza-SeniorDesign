{
 "cells": [
  {
   "cell_type": "code",
   "execution_count": 16,
   "metadata": {},
   "outputs": [],
   "source": [
    "import MySQLdb\n",
    "  \n",
    "# csv file name \n",
    "filename = \"contributions.csv\"\n",
    "\n",
    "myDB = MySQLdb.connect(host=\"seniordesign.cbvhmgr3ve3r.us-east-2.rds.amazonaws.com\",port=3306,user=\"grlpwr\",passwd=\"ourseniordesignproject\",db=\"seniordesign\")\n",
    "myDB = myDB.cursor()"
   ]
  },
  {
   "cell_type": "code",
   "execution_count": 17,
   "metadata": {},
   "outputs": [
    {
     "data": {
      "text/plain": [
       "0"
      ]
     },
     "execution_count": 17,
     "metadata": {},
     "output_type": "execute_result"
    }
   ],
   "source": [
    "myDB.execute(\"DROP TABLE CIS120\")\n",
    "myDB.execute(\"CREATE TABLE CIS120 (question_number INT AUTO_INCREMENT PRIMARY KEY, \"+\n",
    "             \"topic VARCHAR(500), subject VARCHAR(500), question VARCHAR(500), answer VARCHAR(500), num_times_referred_to INT, \"+\n",
    "             \"follow_up_number INT, endorsed INT)\")"
   ]
  },
  {
   "cell_type": "code",
   "execution_count": 18,
   "metadata": {},
   "outputs": [],
   "source": [
    "# myDB.execute(\"INSERT INTO CIS120 (question_number, topic, question, answer, num_times_referred_to, \" +\n",
    "#              \"follow_up_number, endorsed) VALUES (1, 'hw1', 'Q', 'A', 0, 0, 0)\")"
   ]
  },
  {
   "cell_type": "code",
   "execution_count": 19,
   "metadata": {},
   "outputs": [
    {
     "ename": "FileNotFoundError",
     "evalue": "[Errno 2] No such file or directory: 'contributions.csv'",
     "output_type": "error",
     "traceback": [
      "\u001b[0;31m---------------------------------------------------------------------------\u001b[0m",
      "\u001b[0;31mFileNotFoundError\u001b[0m                         Traceback (most recent call last)",
      "\u001b[0;32m<ipython-input-19-f77baf9127c6>\u001b[0m in \u001b[0;36m<module>\u001b[0;34m\u001b[0m\n\u001b[1;32m      4\u001b[0m \u001b[0;34m\u001b[0m\u001b[0m\n\u001b[1;32m      5\u001b[0m \u001b[0;31m# reading csv file\u001b[0m\u001b[0;34m\u001b[0m\u001b[0;34m\u001b[0m\u001b[0m\n\u001b[0;32m----> 6\u001b[0;31m \u001b[0;32mwith\u001b[0m \u001b[0mopen\u001b[0m\u001b[0;34m(\u001b[0m\u001b[0mfilename\u001b[0m\u001b[0;34m,\u001b[0m \u001b[0;34m'r'\u001b[0m\u001b[0;34m,\u001b[0m \u001b[0mencoding\u001b[0m\u001b[0;34m=\u001b[0m\u001b[0;34m\"utf8\"\u001b[0m\u001b[0;34m)\u001b[0m \u001b[0;32mas\u001b[0m \u001b[0mcsvfile\u001b[0m\u001b[0;34m:\u001b[0m\u001b[0;34m\u001b[0m\u001b[0m\n\u001b[0m\u001b[1;32m      7\u001b[0m     \u001b[0;31m# creating a csv reader object\u001b[0m\u001b[0;34m\u001b[0m\u001b[0;34m\u001b[0m\u001b[0m\n\u001b[1;32m      8\u001b[0m     \u001b[0mcsvreader\u001b[0m \u001b[0;34m=\u001b[0m \u001b[0mcsv\u001b[0m\u001b[0;34m.\u001b[0m\u001b[0mreader\u001b[0m\u001b[0;34m(\u001b[0m\u001b[0mcsvfile\u001b[0m\u001b[0;34m)\u001b[0m\u001b[0;34m\u001b[0m\u001b[0m\n",
      "\u001b[0;31mFileNotFoundError\u001b[0m: [Errno 2] No such file or directory: 'contributions.csv'"
     ]
    }
   ],
   "source": [
    "# initializing the titles and rows list \n",
    "fields = [] \n",
    "rows = [] \n",
    "  \n",
    "# reading csv file \n",
    "with open(filename, 'r', encoding=\"utf8\") as csvfile: \n",
    "    # creating a csv reader object \n",
    "    csvreader = csv.reader(csvfile) \n",
    "      \n",
    "    # extracting field names through first row \n",
    "    fields = next(csvreader) \n",
    "  \n",
    "    # extracting each data row one by one \n",
    "    for row in csvreader: \n",
    "        rows.append(row) \n",
    "  \n",
    "    # get total number of rows \n",
    "#     print(\"Total no. of rows: %d\"%(csvreader.line_num)) \n",
    "    \n",
    "    # printing the field names \n",
    "#     print('Field names are:' + ', '.join(field for field in fields)) \n",
    "\n",
    "    #  printing first 5 rows \n",
    "#     print('\\nFirst 5 rows are:\\n') \n",
    "\n",
    "    curr_question = \"\"\n",
    "    curr_text = \"\"\n",
    "    curr_topic = \"\"\n",
    "    curr_answer = \"\"\n",
    "    curr_number = 0\n",
    "    curr_follow_up = 0\n",
    "    endorsed = 0\n",
    "    \n",
    "    # This will help us take the most recent version because it always comes first\n",
    "    already_filled = 0\n",
    "    for row in rows[:]: \n",
    "        # parsing each column of a row \n",
    "        for col,field in zip(row, fields): \n",
    "            if(field == \"Post Number\" and curr_number != col):\n",
    "                if(curr_question != \"\"):\n",
    "                    myDB.execute(\"INSERT INTO CIS120 (question_number, topic, question, answer, num_times_referred_to, \" +\n",
    "                     \"follow_up_number, endorsed) VALUES (%d, %s, %s, %s, %d, %d, %d)\" % (curr_number, curr_topic, \n",
    "                                curr_question, curr_answer, 0, curr_follow_up, endorsed))\n",
    "                curr_number = int(col)\n",
    "                curr_follow_up = 0\n",
    "                curr_question = \"\"\n",
    "                curr_answer = \"\"\n",
    "                curr_topic = \"\"\n",
    "                endorsed = 0\n",
    "                \n",
    "            elif(field == \"Submission HTML Removed\"): #the question could also be in subject\n",
    "                curr_text = col\n",
    "                \n",
    "            elif(field == \"Subject\"): #We want to check if this is actually the question eventaully\n",
    "                curr_topic = col\n",
    "                \n",
    "            elif(field == \"Endorsed by Instructor\"):\n",
    "                if(col == \"TRUE\"):\n",
    "                    endorsed = 1\n",
    "                else:\n",
    "                    endorsed = 0\n",
    "                \n",
    "            elif(field == \"Part of Post\"):\n",
    "                if(col == \"started_off_question\"):\n",
    "                    if(already_filled != 1):\n",
    "                        curr_question = curr_text\n",
    "                    alread_filled = 0\n",
    "                elif(col == \"updated_question\"):\n",
    "                    # update question entry to post and follow up numbers\n",
    "                    if(already_filled != 1):\n",
    "                        curr_question = curr_text\n",
    "                        already_filled = 1\n",
    "                        \n",
    "                elif(col == \"updated_i_answer\"):\n",
    "                    # update last entry to the post and follow up number\n",
    "                    # what if it was appended? how do we update just the end?\n",
    "                    if(already_filled != 1):\n",
    "                        curr_answer = curr_answer + \"\\n\" + curr_text\n",
    "                        already_filled = 1\n",
    "                    endorsed = 1\n",
    "                elif(col == \"started_off_i_answer\"):\n",
    "                    if(already_filled != 1):\n",
    "                        curr_answer = curr_answer + \"\\n\" + curr_text\n",
    "                    alread_filled = 0\n",
    "                    endorsed = 1\n",
    "                    \n",
    "                elif(col == \"updated_s_answer\"):\n",
    "                    # update last entry to the post and follow up number\n",
    "                    # what if it was appended? how do we update just the end?\n",
    "                    if(already_filled != 1):\n",
    "                        curr_answer = curr_answer + \"\\n\" + curr_text\n",
    "                        already_filled = 1\n",
    "                elif(col == \"started_off_s_answer\"):\n",
    "                    # append to answer - if it was previously endorsed and were appending should we keep it endorsed?\n",
    "                    if(already_filled != 1):\n",
    "                        curr_answer = curr_answer + \"\\n\" + curr_text\n",
    "                    alread_filled = 0\n",
    "                    \n",
    "                elif(col == \"followup\"):\n",
    "                    # new entry for the new followup question \n",
    "                    if(curr_question != \"\"):\n",
    "                        myDB.execute(\"INSERT INTO CIS120 (question_number, topic, question, answer, num_times_referred_to, \" +\n",
    "                         \"follow_up_number, endorsed) VALUES (%d, %s, %s, %s, %d, %d, %d)\"  % (curr_number, curr_topic, \n",
    "                                curr_question, curr_answer, 0, curr_follow_up, endorsed))\n",
    "                        curr_question = \"\"\n",
    "                        curr_answer = \"\"\n",
    "                        endorsed = 0\n",
    "                        \n",
    "                    curr_follow_up = curr_follow_up + 1\n",
    "                    curr_question = curr_text\n",
    "                elif(col == \"reply_to_followup\"):\n",
    "                    curr_answer = curr_answer + \"\\n\" + curr_text\n",
    "                                \n",
    "                \n",
    "        print('\\n') \n",
    "    "
   ]
  },
  {
   "cell_type": "code",
   "execution_count": null,
   "metadata": {},
   "outputs": [],
   "source": [
    "myDB.execute(\"SELECT * FROM CIS120\")\n",
    "row = myDB.fetchone()\n",
    "while row is not None:\n",
    "  print(row)\n",
    "  row = myDB.fetchone()"
   ]
  }
 ],
 "metadata": {
  "kernelspec": {
   "display_name": "Python 3",
   "language": "python",
   "name": "python3"
  },
  "language_info": {
   "codemirror_mode": {
    "name": "ipython",
    "version": 3
   },
   "file_extension": ".py",
   "mimetype": "text/x-python",
   "name": "python",
   "nbconvert_exporter": "python",
   "pygments_lexer": "ipython3",
   "version": "3.7.0"
  }
 },
 "nbformat": 4,
 "nbformat_minor": 2
}
